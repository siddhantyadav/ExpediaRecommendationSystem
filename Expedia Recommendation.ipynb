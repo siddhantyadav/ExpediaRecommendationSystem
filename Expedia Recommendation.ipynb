{
 "cells": [
  {
   "cell_type": "markdown",
   "metadata": {},
   "source": [
    "## Importing pyspark packages"
   ]
  },
  {
   "cell_type": "code",
   "execution_count": 73,
   "metadata": {},
   "outputs": [
    {
     "ename": "ImportError",
     "evalue": "No module named spark.implicits._",
     "output_type": "error",
     "traceback": [
      "\u001b[1;31m---------------------------------------------------------------------------\u001b[0m",
      "\u001b[1;31mImportError\u001b[0m                               Traceback (most recent call last)",
      "\u001b[1;32m<ipython-input-73-1e0ae5c0dae9>\u001b[0m in \u001b[0;36m<module>\u001b[1;34m()\u001b[0m\n\u001b[0;32m      9\u001b[0m \u001b[1;33m\u001b[0m\u001b[0m\n\u001b[0;32m     10\u001b[0m \u001b[1;33m\u001b[0m\u001b[0m\n\u001b[1;32m---> 11\u001b[1;33m \u001b[1;32mimport\u001b[0m \u001b[0mspark\u001b[0m\u001b[1;33m.\u001b[0m\u001b[0mimplicits\u001b[0m\u001b[1;33m.\u001b[0m\u001b[0m_\u001b[0m\u001b[1;33m\u001b[0m\u001b[0m\n\u001b[0m\u001b[0;32m     12\u001b[0m \u001b[1;32mimport\u001b[0m \u001b[0msqlContext\u001b[0m\u001b[1;33m.\u001b[0m\u001b[0mimplicits\u001b[0m\u001b[1;33m.\u001b[0m\u001b[0m_\u001b[0m\u001b[1;33m\u001b[0m\u001b[0m\n",
      "\u001b[1;31mImportError\u001b[0m: No module named spark.implicits._"
     ]
    }
   ],
   "source": [
    "import numpy as np\n",
    "import pandas as pd\n",
    "from pyspark.ml.classification import NaiveBayes\n",
    "from pyspark.ml.evaluation import MulticlassClassificationEvaluator\n",
    "from pyspark.ml.feature import VectorAssembler\n",
    "from pyspark.ml.feature import StringIndexer\n",
    "from pyspark.ml import Pipeline\n",
    "from pyspark.sql.functions import *\n",
    " \n"
   ]
  },
  {
   "cell_type": "markdown",
   "metadata": {},
   "source": [
    "# Uploading/ Pre-processing"
   ]
  },
  {
   "cell_type": "markdown",
   "metadata": {},
   "source": [
    "### Uploading Data"
   ]
  },
  {
   "cell_type": "code",
   "execution_count": 2,
   "metadata": {},
   "outputs": [
    {
     "name": "stdout",
     "output_type": "stream",
     "text": [
      "root\n",
      " |-- date_time: timestamp (nullable = true)\n",
      " |-- site_name: integer (nullable = true)\n",
      " |-- posa_continent: integer (nullable = true)\n",
      " |-- user_location_country: integer (nullable = true)\n",
      " |-- user_location_region: integer (nullable = true)\n",
      " |-- user_location_city: integer (nullable = true)\n",
      " |-- orig_destination_distance: double (nullable = true)\n",
      " |-- user_id: integer (nullable = true)\n",
      " |-- is_mobile: integer (nullable = true)\n",
      " |-- is_package: integer (nullable = true)\n",
      " |-- channel: integer (nullable = true)\n",
      " |-- srch_ci: timestamp (nullable = true)\n",
      " |-- srch_co: timestamp (nullable = true)\n",
      " |-- srch_adults_cnt: integer (nullable = true)\n",
      " |-- srch_children_cnt: integer (nullable = true)\n",
      " |-- srch_rm_cnt: integer (nullable = true)\n",
      " |-- srch_destination_id: integer (nullable = true)\n",
      " |-- srch_destination_type_id: integer (nullable = true)\n",
      " |-- is_booking: integer (nullable = true)\n",
      " |-- cnt: integer (nullable = true)\n",
      " |-- hotel_continent: integer (nullable = true)\n",
      " |-- hotel_country: integer (nullable = true)\n",
      " |-- hotel_market: integer (nullable = true)\n",
      " |-- hotel_cluster: integer (nullable = true)\n",
      "\n"
     ]
    }
   ],
   "source": [
    "df =spark.read.csv(\"/Users/arjit/Desktop/train.csv\", header =True, inferSchema = True)\n",
    "df.printSchema()"
   ]
  },
  {
   "cell_type": "code",
   "execution_count": 3,
   "metadata": {},
   "outputs": [
    {
     "data": {
      "text/plain": [
       "37670293"
      ]
     },
     "execution_count": 3,
     "metadata": {},
     "output_type": "execute_result"
    }
   ],
   "source": [
    "df.count()"
   ]
  },
  {
   "cell_type": "markdown",
   "metadata": {},
   "source": [
    "##### Number of rows - 37670293 / Column -24"
   ]
  },
  {
   "cell_type": "markdown",
   "metadata": {},
   "source": [
    "### Coulmns -"
   ]
  },
  {
   "cell_type": "code",
   "execution_count": 4,
   "metadata": {},
   "outputs": [
    {
     "data": {
      "text/plain": [
       "['date_time',\n",
       " 'site_name',\n",
       " 'posa_continent',\n",
       " 'user_location_country',\n",
       " 'user_location_region',\n",
       " 'user_location_city',\n",
       " 'orig_destination_distance',\n",
       " 'user_id',\n",
       " 'is_mobile',\n",
       " 'is_package',\n",
       " 'channel',\n",
       " 'srch_ci',\n",
       " 'srch_co',\n",
       " 'srch_adults_cnt',\n",
       " 'srch_children_cnt',\n",
       " 'srch_rm_cnt',\n",
       " 'srch_destination_id',\n",
       " 'srch_destination_type_id',\n",
       " 'is_booking',\n",
       " 'cnt',\n",
       " 'hotel_continent',\n",
       " 'hotel_country',\n",
       " 'hotel_market',\n",
       " 'hotel_cluster']"
      ]
     },
     "execution_count": 4,
     "metadata": {},
     "output_type": "execute_result"
    }
   ],
   "source": [
    "df.columns"
   ]
  },
  {
   "cell_type": "markdown",
   "metadata": {},
   "source": [
    "### Displaying row # 1"
   ]
  },
  {
   "cell_type": "code",
   "execution_count": 7,
   "metadata": {},
   "outputs": [
    {
     "data": {
      "text/plain": [
       "[Row(user_location_country=66, user_location_region=348, user_location_city=48862, orig_destination_distance=2234.2641, user_id=12, srch_ci=datetime.datetime(2014, 8, 27, 0, 0), srch_co=datetime.datetime(2014, 8, 31, 0, 0), srch_adults_cnt=2, srch_children_cnt=0, srch_rm_cnt=1, srch_destination_id=8250, srch_destination_type_id=1, is_booking=0, cnt=3, hotel_continent=2, hotel_country=50, hotel_market=628, hotel_cluster=1)]"
      ]
     },
     "execution_count": 7,
     "metadata": {},
     "output_type": "execute_result"
    }
   ],
   "source": [
    "df.take(1)"
   ]
  },
  {
   "cell_type": "markdown",
   "metadata": {},
   "source": [
    "### Droping Irrelevant columns "
   ]
  },
  {
   "cell_type": "code",
   "execution_count": 8,
   "metadata": {
    "scrolled": true
   },
   "outputs": [
    {
     "name": "stdout",
     "output_type": "stream",
     "text": [
      "root\n",
      " |-- user_location_country: integer (nullable = true)\n",
      " |-- user_location_region: integer (nullable = true)\n",
      " |-- user_location_city: integer (nullable = true)\n",
      " |-- orig_destination_distance: double (nullable = true)\n",
      " |-- user_id: integer (nullable = true)\n",
      " |-- srch_ci: timestamp (nullable = true)\n",
      " |-- srch_co: timestamp (nullable = true)\n",
      " |-- srch_adults_cnt: integer (nullable = true)\n",
      " |-- srch_children_cnt: integer (nullable = true)\n",
      " |-- srch_rm_cnt: integer (nullable = true)\n",
      " |-- srch_destination_id: integer (nullable = true)\n",
      " |-- srch_destination_type_id: integer (nullable = true)\n",
      " |-- is_booking: integer (nullable = true)\n",
      " |-- cnt: integer (nullable = true)\n",
      " |-- hotel_continent: integer (nullable = true)\n",
      " |-- hotel_country: integer (nullable = true)\n",
      " |-- hotel_market: integer (nullable = true)\n",
      " |-- hotel_cluster: integer (nullable = true)\n",
      "\n"
     ]
    },
    {
     "data": {
      "text/plain": [
       "DataFrame[user_location_country: int, user_location_region: int, user_location_city: int, orig_destination_distance: double, user_id: int, srch_ci: timestamp, srch_co: timestamp, srch_adults_cnt: int, srch_children_cnt: int, srch_rm_cnt: int, srch_destination_id: int, srch_destination_type_id: int, is_booking: int, cnt: int, hotel_continent: int, hotel_country: int, hotel_market: int, hotel_cluster: int]"
      ]
     },
     "metadata": {},
     "output_type": "display_data"
    }
   ],
   "source": [
    "df = df.drop('is_mobile','site_name','posa_continent', 'is_package', 'channel','date_time')\n",
    "df.printSchema()\n",
    "display(df)  "
   ]
  },
  {
   "cell_type": "markdown",
   "metadata": {},
   "source": [
    "#### Rearranging Data"
   ]
  },
  {
   "cell_type": "code",
   "execution_count": 9,
   "metadata": {},
   "outputs": [
    {
     "data": {
      "text/plain": [
       "37670293"
      ]
     },
     "execution_count": 9,
     "metadata": {},
     "output_type": "execute_result"
    }
   ],
   "source": [
    "df.count()"
   ]
  },
  {
   "cell_type": "code",
   "execution_count": 10,
   "metadata": {
    "collapsed": true
   },
   "outputs": [],
   "source": [
    "from pyspark.sql import functions as F\n",
    "timeFmt = \"yyyy-MM-dd'T'HH:mm:ss.SSS\"\n",
    "timeDiff = (F.unix_timestamp(df.srch_co, format=timeFmt)\n",
    "            - F.unix_timestamp(df.srch_ci, format=timeFmt))\n",
    "df = df.withColumn(\"Num_OfDays\", timeDiff/86400)"
   ]
  },
  {
   "cell_type": "code",
   "execution_count": 11,
   "metadata": {},
   "outputs": [
    {
     "data": {
      "text/plain": [
       "['user_location_country',\n",
       " 'user_location_region',\n",
       " 'user_location_city',\n",
       " 'orig_destination_distance',\n",
       " 'user_id',\n",
       " 'srch_ci',\n",
       " 'srch_co',\n",
       " 'srch_adults_cnt',\n",
       " 'srch_children_cnt',\n",
       " 'srch_rm_cnt',\n",
       " 'srch_destination_id',\n",
       " 'srch_destination_type_id',\n",
       " 'is_booking',\n",
       " 'cnt',\n",
       " 'hotel_continent',\n",
       " 'hotel_country',\n",
       " 'hotel_market',\n",
       " 'hotel_cluster',\n",
       " 'Num_OfDays']"
      ]
     },
     "execution_count": 11,
     "metadata": {},
     "output_type": "execute_result"
    }
   ],
   "source": [
    "df.columns"
   ]
  },
  {
   "cell_type": "markdown",
   "metadata": {},
   "source": [
    "#### We can create a new dataset with variables relevant to our model"
   ]
  },
  {
   "cell_type": "code",
   "execution_count": 79,
   "metadata": {},
   "outputs": [
    {
     "data": {
      "text/plain": [
       "[Row(srch_destination_id=0, is_booking=0, hotel_cluster=3, count=2),\n",
       " Row(srch_destination_id=1, is_booking=0, hotel_cluster=57, count=1),\n",
       " Row(srch_destination_id=1, is_booking=1, hotel_cluster=20, count=4),\n",
       " Row(srch_destination_id=1, is_booking=1, hotel_cluster=30, count=2),\n",
       " Row(srch_destination_id=1, is_booking=0, hotel_cluster=20, count=22),\n",
       " Row(srch_destination_id=1, is_booking=0, hotel_cluster=30, count=20),\n",
       " Row(srch_destination_id=1, is_booking=0, hotel_cluster=60, count=17),\n",
       " Row(srch_destination_id=2, is_booking=0, hotel_cluster=5, count=1),\n",
       " Row(srch_destination_id=2, is_booking=1, hotel_cluster=20, count=1),\n",
       " Row(srch_destination_id=2, is_booking=0, hotel_cluster=20, count=3)]"
      ]
     },
     "execution_count": 79,
     "metadata": {},
     "output_type": "execute_result"
    }
   ],
   "source": [
    "newDF = df.groupBy( 'srch_destination_id','is_booking','hotel_cluster').count().orderBy('srch_destination_id')\n",
    "newDF.take(10)"
   ]
  },
  {
   "cell_type": "code",
   "execution_count": 70,
   "metadata": {},
   "outputs": [
    {
     "data": {
      "text/plain": [
       "<bound method DataFrame.printSchema of DataFrame[srch_destination_id: int, is_booking: int, hotel_cluster: int, count: bigint, weight: double]>"
      ]
     },
     "execution_count": 70,
     "metadata": {},
     "output_type": "execute_result"
    }
   ],
   "source": [
    "newDF.printSchema"
   ]
  },
  {
   "cell_type": "code",
   "execution_count": 80,
   "metadata": {},
   "outputs": [],
   "source": []
  },
  {
   "cell_type": "code",
   "execution_count": 81,
   "metadata": {},
   "outputs": [
    {
     "data": {
      "text/plain": [
       "[Row(srch_destination_id=148, collect_set(hotel_cluster)=[15, 30, 9, 60, 51, 16, 32, 39, 76, 91, 40, 47, 48, 35, 50, 6, 57, 72, 36, 42, 28, 7, 94, 14, 8, 59, 23]),\n",
       " Row(srch_destination_id=463, collect_set(hotel_cluster)=[30, 9, 78, 3, 36, 62, 44]),\n",
       " Row(srch_destination_id=471, collect_set(hotel_cluster)=[33, 9, 78, 99, 82, 97, 22, 58, 14, 29]),\n",
       " Row(srch_destination_id=496, collect_set(hotel_cluster)=[51, 15, 60, 16, 53, 32, 83, 68, 18, 10, 91, 47, 77, 48, 13, 42, 93, 72, 28, 7, 94, 14, 23]),\n",
       " Row(srch_destination_id=833, collect_set(hotel_cluster)=[35, 53, 89, 3])]"
      ]
     },
     "execution_count": 81,
     "metadata": {},
     "output_type": "execute_result"
    }
   ],
   "source": [
    "newdf2.take(5)"
   ]
  },
  {
   "cell_type": "markdown",
   "metadata": {},
   "source": [
    "### Putting weights on booking and clicks"
   ]
  },
  {
   "cell_type": "code",
   "execution_count": 18,
   "metadata": {},
   "outputs": [
    {
     "data": {
      "text/plain": [
       "[Row(srch_destination_id=0, is_booking=0, hotel_cluster=3, count=2),\n",
       " Row(srch_destination_id=1, is_booking=0, hotel_cluster=20, count=22),\n",
       " Row(srch_destination_id=1, is_booking=0, hotel_cluster=30, count=20),\n",
       " Row(srch_destination_id=1, is_booking=0, hotel_cluster=60, count=17),\n",
       " Row(srch_destination_id=1, is_booking=1, hotel_cluster=20, count=4),\n",
       " Row(srch_destination_id=1, is_booking=1, hotel_cluster=30, count=2),\n",
       " Row(srch_destination_id=1, is_booking=0, hotel_cluster=57, count=1),\n",
       " Row(srch_destination_id=2, is_booking=0, hotel_cluster=30, count=5),\n",
       " Row(srch_destination_id=2, is_booking=0, hotel_cluster=20, count=3),\n",
       " Row(srch_destination_id=2, is_booking=0, hotel_cluster=5, count=1)]"
      ]
     },
     "execution_count": 18,
     "metadata": {},
     "output_type": "execute_result"
    }
   ],
   "source": [
    "newDF = newDF.orderBy(newDF['srch_destination_id'],newDF['count'].desc())\n",
    "newDF.take(10)"
   ]
  },
  {
   "cell_type": "code",
   "execution_count": 89,
   "metadata": {},
   "outputs": [
    {
     "data": {
      "text/plain": [
       "[Row(srch_destination_id=0, is_booking=0, hotel_cluster=3, count=2, weight=0.12646),\n",
       " Row(srch_destination_id=1, is_booking=1, hotel_cluster=30, count=2, weight=1.3399599999999998),\n",
       " Row(srch_destination_id=1, is_booking=0, hotel_cluster=60, count=17, weight=1.09216),\n",
       " Row(srch_destination_id=1, is_booking=1, hotel_cluster=20, count=4, weight=1.4599199999999999),\n",
       " Row(srch_destination_id=1, is_booking=0, hotel_cluster=20, count=22, weight=1.38456),\n",
       " Row(srch_destination_id=1, is_booking=0, hotel_cluster=57, count=1, weight=0.09098),\n",
       " Row(srch_destination_id=1, is_booking=0, hotel_cluster=30, count=20, weight=1.2646),\n",
       " Row(srch_destination_id=2, is_booking=0, hotel_cluster=46, count=1, weight=0.08548),\n",
       " Row(srch_destination_id=2, is_booking=0, hotel_cluster=5, count=1, weight=0.06498),\n",
       " Row(srch_destination_id=2, is_booking=0, hotel_cluster=20, count=3, weight=0.19744)]"
      ]
     },
     "execution_count": 89,
     "metadata": {},
     "output_type": "execute_result"
    }
   ],
   "source": [
    "newDF = newDF.withColumn('weight',1.2*newDF['is_booking']+0.06248*newDF['count']+0.0005*newDF['hotel_cluster'])\n",
    "newDF.take(10)"
   ]
  },
  {
   "cell_type": "code",
   "execution_count": 24,
   "metadata": {},
   "outputs": [
    {
     "data": {
      "text/plain": [
       "578356"
      ]
     },
     "execution_count": 24,
     "metadata": {},
     "output_type": "execute_result"
    }
   ],
   "source": [
    "newDF.count()"
   ]
  },
  {
   "cell_type": "code",
   "execution_count": 18,
   "metadata": {
    "collapsed": true
   },
   "outputs": [],
   "source": [
    "value = newDF.count()"
   ]
  },
  {
   "cell_type": "code",
   "execution_count": 19,
   "metadata": {},
   "outputs": [
    {
     "data": {
      "text/plain": [
       "578356"
      ]
     },
     "execution_count": 19,
     "metadata": {},
     "output_type": "execute_result"
    }
   ],
   "source": []
  },
  {
   "cell_type": "code",
   "execution_count": 90,
   "metadata": {},
   "outputs": [],
   "source": [
    "from pyspark.sql.window import Window\n",
    "from pyspark.sql.functions import rank, col\n",
    "\n",
    "window = Window.partitionBy(newDF['srch_destination_id']).orderBy(newDF['srch_destination_id'],newDF['weight'].desc())\n",
    "\n",
    "newDF1 = newDF.select('*', rank().over(window).alias('rank')).filter(col('rank') <= 5)"
   ]
  },
  {
   "cell_type": "code",
   "execution_count": 91,
   "metadata": {},
   "outputs": [
    {
     "data": {
      "text/plain": [
       "[Row(srch_destination_id=0, is_booking=0, hotel_cluster=3, count=2, weight=0.12646, rank=1),\n",
       " Row(srch_destination_id=1, is_booking=1, hotel_cluster=20, count=4, weight=1.4599199999999999, rank=1),\n",
       " Row(srch_destination_id=1, is_booking=0, hotel_cluster=20, count=22, weight=1.38456, rank=2),\n",
       " Row(srch_destination_id=1, is_booking=1, hotel_cluster=30, count=2, weight=1.3399599999999998, rank=3),\n",
       " Row(srch_destination_id=1, is_booking=0, hotel_cluster=30, count=20, weight=1.2646, rank=4),\n",
       " Row(srch_destination_id=1, is_booking=0, hotel_cluster=60, count=17, weight=1.09216, rank=5),\n",
       " Row(srch_destination_id=2, is_booking=1, hotel_cluster=20, count=1, weight=1.27248, rank=1),\n",
       " Row(srch_destination_id=2, is_booking=0, hotel_cluster=30, count=5, weight=0.3274, rank=2),\n",
       " Row(srch_destination_id=2, is_booking=0, hotel_cluster=20, count=3, weight=0.19744, rank=3),\n",
       " Row(srch_destination_id=2, is_booking=0, hotel_cluster=53, count=1, weight=0.08898, rank=4),\n",
       " Row(srch_destination_id=2, is_booking=0, hotel_cluster=46, count=1, weight=0.08548, rank=5),\n",
       " Row(srch_destination_id=3, is_booking=0, hotel_cluster=53, count=8, weight=0.52634, rank=1),\n",
       " Row(srch_destination_id=3, is_booking=0, hotel_cluster=60, count=7, weight=0.46736, rank=2),\n",
       " Row(srch_destination_id=4, is_booking=0, hotel_cluster=82, count=173, weight=10.85004, rank=1),\n",
       " Row(srch_destination_id=4, is_booking=0, hotel_cluster=25, count=112, weight=7.010260000000001, rank=2),\n",
       " Row(srch_destination_id=4, is_booking=0, hotel_cluster=67, count=107, weight=6.71886, rank=3),\n",
       " Row(srch_destination_id=4, is_booking=0, hotel_cluster=78, count=85, weight=5.3498, rank=4),\n",
       " Row(srch_destination_id=4, is_booking=0, hotel_cluster=32, count=81, weight=5.07688, rank=5),\n",
       " Row(srch_destination_id=5, is_booking=0, hotel_cluster=89, count=1, weight=0.10697999999999999, rank=1),\n",
       " Row(srch_destination_id=6, is_booking=0, hotel_cluster=89, count=2, weight=0.16946, rank=1)]"
      ]
     },
     "execution_count": 91,
     "metadata": {},
     "output_type": "execute_result"
    }
   ],
   "source": [
    "newDF1 = newDF1.orderBy(newDF1['srch_destination_id'],newDF1['weight'].desc())\n",
    "newDF2 = newDF1\n",
    "newDF1.take(20)"
   ]
  },
  {
   "cell_type": "code",
   "execution_count": 92,
   "metadata": {},
   "outputs": [],
   "source": [
    "newdf2 = newDF1.groupBy('srch_destination_id').agg(collect_set('hotel_cluster'))"
   ]
  },
  {
   "cell_type": "code",
   "execution_count": 93,
   "metadata": {},
   "outputs": [],
   "source": [
    "newdf2 = newdf2.orderBy(newdf2['srch_destination_id'])"
   ]
  },
  {
   "cell_type": "code",
   "execution_count": 94,
   "metadata": {},
   "outputs": [
    {
     "data": {
      "text/plain": [
       "[Row(srch_destination_id=0, collect_set(hotel_cluster)=[3]),\n",
       " Row(srch_destination_id=1, collect_set(hotel_cluster)=[30, 60, 20]),\n",
       " Row(srch_destination_id=2, collect_set(hotel_cluster)=[30, 46, 20, 53]),\n",
       " Row(srch_destination_id=3, collect_set(hotel_cluster)=[60, 53]),\n",
       " Row(srch_destination_id=4, collect_set(hotel_cluster)=[78, 67, 82, 32, 25])]"
      ]
     },
     "execution_count": 94,
     "metadata": {},
     "output_type": "execute_result"
    }
   ],
   "source": [
    "newdf2.take(5)"
   ]
  },
  {
   "cell_type": "code",
   "execution_count": 95,
   "metadata": {},
   "outputs": [
    {
     "data": {
      "text/plain": [
       "<bound method DataFrame.printSchema of DataFrame[srch_destination_id: int, collect_set(hotel_cluster): array<int>]>"
      ]
     },
     "execution_count": 95,
     "metadata": {},
     "output_type": "execute_result"
    }
   ],
   "source": [
    "newdf2.printSchema"
   ]
  },
  {
   "cell_type": "code",
   "execution_count": 96,
   "metadata": {},
   "outputs": [
    {
     "data": {
      "text/html": [
       "<div>\n",
       "<style>\n",
       "    .dataframe thead tr:only-child th {\n",
       "        text-align: right;\n",
       "    }\n",
       "\n",
       "    .dataframe thead th {\n",
       "        text-align: left;\n",
       "    }\n",
       "\n",
       "    .dataframe tbody tr th {\n",
       "        vertical-align: top;\n",
       "    }\n",
       "</style>\n",
       "<table border=\"1\" class=\"dataframe\">\n",
       "  <thead>\n",
       "    <tr style=\"text-align: right;\">\n",
       "      <th></th>\n",
       "      <th>srch_destination_id</th>\n",
       "      <th>collect_set(hotel_cluster)</th>\n",
       "    </tr>\n",
       "  </thead>\n",
       "  <tbody>\n",
       "    <tr>\n",
       "      <th>0</th>\n",
       "      <td>0</td>\n",
       "      <td>[3]</td>\n",
       "    </tr>\n",
       "    <tr>\n",
       "      <th>1</th>\n",
       "      <td>1</td>\n",
       "      <td>[30, 60, 20]</td>\n",
       "    </tr>\n",
       "    <tr>\n",
       "      <th>2</th>\n",
       "      <td>2</td>\n",
       "      <td>[30, 46, 20, 53]</td>\n",
       "    </tr>\n",
       "    <tr>\n",
       "      <th>3</th>\n",
       "      <td>3</td>\n",
       "      <td>[60, 53]</td>\n",
       "    </tr>\n",
       "    <tr>\n",
       "      <th>4</th>\n",
       "      <td>4</td>\n",
       "      <td>[78, 67, 82, 32, 25]</td>\n",
       "    </tr>\n",
       "    <tr>\n",
       "      <th>5</th>\n",
       "      <td>5</td>\n",
       "      <td>[89]</td>\n",
       "    </tr>\n",
       "    <tr>\n",
       "      <th>6</th>\n",
       "      <td>6</td>\n",
       "      <td>[89]</td>\n",
       "    </tr>\n",
       "    <tr>\n",
       "      <th>7</th>\n",
       "      <td>7</td>\n",
       "      <td>[16, 42, 94]</td>\n",
       "    </tr>\n",
       "    <tr>\n",
       "      <th>8</th>\n",
       "      <td>8</td>\n",
       "      <td>[48, 42, 7, 43, 91]</td>\n",
       "    </tr>\n",
       "    <tr>\n",
       "      <th>9</th>\n",
       "      <td>9</td>\n",
       "      <td>[20, 75, 61, 40]</td>\n",
       "    </tr>\n",
       "    <tr>\n",
       "      <th>10</th>\n",
       "      <td>10</td>\n",
       "      <td>[16, 50, 28, 91, 77]</td>\n",
       "    </tr>\n",
       "    <tr>\n",
       "      <th>11</th>\n",
       "      <td>11</td>\n",
       "      <td>[51, 48, 16, 42, 47]</td>\n",
       "    </tr>\n",
       "    <tr>\n",
       "      <th>12</th>\n",
       "      <td>13</td>\n",
       "      <td>[76]</td>\n",
       "    </tr>\n",
       "    <tr>\n",
       "      <th>13</th>\n",
       "      <td>14</td>\n",
       "      <td>[78, 38, 20, 75]</td>\n",
       "    </tr>\n",
       "    <tr>\n",
       "      <th>14</th>\n",
       "      <td>16</td>\n",
       "      <td>[42, 7, 43, 76]</td>\n",
       "    </tr>\n",
       "    <tr>\n",
       "      <th>15</th>\n",
       "      <td>17</td>\n",
       "      <td>[35, 58, 11]</td>\n",
       "    </tr>\n",
       "    <tr>\n",
       "      <th>16</th>\n",
       "      <td>18</td>\n",
       "      <td>[63, 96, 60, 31, 82]</td>\n",
       "    </tr>\n",
       "    <tr>\n",
       "      <th>17</th>\n",
       "      <td>19</td>\n",
       "      <td>[81, 64, 38, 75, 61]</td>\n",
       "    </tr>\n",
       "    <tr>\n",
       "      <th>18</th>\n",
       "      <td>20</td>\n",
       "      <td>[53]</td>\n",
       "    </tr>\n",
       "    <tr>\n",
       "      <th>19</th>\n",
       "      <td>21</td>\n",
       "      <td>[82, 46, 3, 61, 58]</td>\n",
       "    </tr>\n",
       "    <tr>\n",
       "      <th>20</th>\n",
       "      <td>22</td>\n",
       "      <td>[89]</td>\n",
       "    </tr>\n",
       "    <tr>\n",
       "      <th>21</th>\n",
       "      <td>23</td>\n",
       "      <td>[89, 86, 90, 87, 44]</td>\n",
       "    </tr>\n",
       "    <tr>\n",
       "      <th>22</th>\n",
       "      <td>24</td>\n",
       "      <td>[32, 42, 76, 91]</td>\n",
       "    </tr>\n",
       "    <tr>\n",
       "      <th>23</th>\n",
       "      <td>25</td>\n",
       "      <td>[51, 48, 33, 39, 47]</td>\n",
       "    </tr>\n",
       "    <tr>\n",
       "      <th>24</th>\n",
       "      <td>26</td>\n",
       "      <td>[30, 46, 82, 8]</td>\n",
       "    </tr>\n",
       "    <tr>\n",
       "      <th>25</th>\n",
       "      <td>27</td>\n",
       "      <td>[30, 81, 78, 60, 75]</td>\n",
       "    </tr>\n",
       "    <tr>\n",
       "      <th>26</th>\n",
       "      <td>28</td>\n",
       "      <td>[33, 99, 37, 2]</td>\n",
       "    </tr>\n",
       "    <tr>\n",
       "      <th>27</th>\n",
       "      <td>29</td>\n",
       "      <td>[13]</td>\n",
       "    </tr>\n",
       "    <tr>\n",
       "      <th>28</th>\n",
       "      <td>30</td>\n",
       "      <td>[53, 89, 3, 58]</td>\n",
       "    </tr>\n",
       "    <tr>\n",
       "      <th>29</th>\n",
       "      <td>31</td>\n",
       "      <td>[30, 82, 25, 43, 62]</td>\n",
       "    </tr>\n",
       "    <tr>\n",
       "      <th>...</th>\n",
       "      <td>...</td>\n",
       "      <td>...</td>\n",
       "    </tr>\n",
       "    <tr>\n",
       "      <th>59425</th>\n",
       "      <td>65027</td>\n",
       "      <td>[48, 91, 14]</td>\n",
       "    </tr>\n",
       "    <tr>\n",
       "      <th>59426</th>\n",
       "      <td>65028</td>\n",
       "      <td>[39, 91, 14]</td>\n",
       "    </tr>\n",
       "    <tr>\n",
       "      <th>59427</th>\n",
       "      <td>65031</td>\n",
       "      <td>[48, 28, 94]</td>\n",
       "    </tr>\n",
       "    <tr>\n",
       "      <th>59428</th>\n",
       "      <td>65032</td>\n",
       "      <td>[57]</td>\n",
       "    </tr>\n",
       "    <tr>\n",
       "      <th>59429</th>\n",
       "      <td>65034</td>\n",
       "      <td>[67]</td>\n",
       "    </tr>\n",
       "    <tr>\n",
       "      <th>59430</th>\n",
       "      <td>65035</td>\n",
       "      <td>[78, 43, 22, 58, 8]</td>\n",
       "    </tr>\n",
       "    <tr>\n",
       "      <th>59431</th>\n",
       "      <td>65037</td>\n",
       "      <td>[7]</td>\n",
       "    </tr>\n",
       "    <tr>\n",
       "      <th>59432</th>\n",
       "      <td>65039</td>\n",
       "      <td>[67, 38, 53, 44]</td>\n",
       "    </tr>\n",
       "    <tr>\n",
       "      <th>59433</th>\n",
       "      <td>65041</td>\n",
       "      <td>[9, 90, 59]</td>\n",
       "    </tr>\n",
       "    <tr>\n",
       "      <th>59434</th>\n",
       "      <td>65042</td>\n",
       "      <td>[37, 89, 93, 44]</td>\n",
       "    </tr>\n",
       "    <tr>\n",
       "      <th>59435</th>\n",
       "      <td>65043</td>\n",
       "      <td>[90]</td>\n",
       "    </tr>\n",
       "    <tr>\n",
       "      <th>59436</th>\n",
       "      <td>65047</td>\n",
       "      <td>[15, 16, 32, 42]</td>\n",
       "    </tr>\n",
       "    <tr>\n",
       "      <th>59437</th>\n",
       "      <td>65049</td>\n",
       "      <td>[57]</td>\n",
       "    </tr>\n",
       "    <tr>\n",
       "      <th>59438</th>\n",
       "      <td>65050</td>\n",
       "      <td>[44]</td>\n",
       "    </tr>\n",
       "    <tr>\n",
       "      <th>59439</th>\n",
       "      <td>65051</td>\n",
       "      <td>[30, 58, 62]</td>\n",
       "    </tr>\n",
       "    <tr>\n",
       "      <th>59440</th>\n",
       "      <td>65054</td>\n",
       "      <td>[44]</td>\n",
       "    </tr>\n",
       "    <tr>\n",
       "      <th>59441</th>\n",
       "      <td>65055</td>\n",
       "      <td>[89]</td>\n",
       "    </tr>\n",
       "    <tr>\n",
       "      <th>59442</th>\n",
       "      <td>65056</td>\n",
       "      <td>[4]</td>\n",
       "    </tr>\n",
       "    <tr>\n",
       "      <th>59443</th>\n",
       "      <td>65058</td>\n",
       "      <td>[89]</td>\n",
       "    </tr>\n",
       "    <tr>\n",
       "      <th>59444</th>\n",
       "      <td>65059</td>\n",
       "      <td>[93]</td>\n",
       "    </tr>\n",
       "    <tr>\n",
       "      <th>59445</th>\n",
       "      <td>65060</td>\n",
       "      <td>[30]</td>\n",
       "    </tr>\n",
       "    <tr>\n",
       "      <th>59446</th>\n",
       "      <td>65063</td>\n",
       "      <td>[82, 46]</td>\n",
       "    </tr>\n",
       "    <tr>\n",
       "      <th>59447</th>\n",
       "      <td>65066</td>\n",
       "      <td>[18]</td>\n",
       "    </tr>\n",
       "    <tr>\n",
       "      <th>59448</th>\n",
       "      <td>65068</td>\n",
       "      <td>[63, 60, 92]</td>\n",
       "    </tr>\n",
       "    <tr>\n",
       "      <th>59449</th>\n",
       "      <td>65087</td>\n",
       "      <td>[30]</td>\n",
       "    </tr>\n",
       "    <tr>\n",
       "      <th>59450</th>\n",
       "      <td>65098</td>\n",
       "      <td>[50, 94]</td>\n",
       "    </tr>\n",
       "    <tr>\n",
       "      <th>59451</th>\n",
       "      <td>65102</td>\n",
       "      <td>[51, 7]</td>\n",
       "    </tr>\n",
       "    <tr>\n",
       "      <th>59452</th>\n",
       "      <td>65103</td>\n",
       "      <td>[20, 50, 42, 7]</td>\n",
       "    </tr>\n",
       "    <tr>\n",
       "      <th>59453</th>\n",
       "      <td>65104</td>\n",
       "      <td>[37, 5]</td>\n",
       "    </tr>\n",
       "    <tr>\n",
       "      <th>59454</th>\n",
       "      <td>65107</td>\n",
       "      <td>[76]</td>\n",
       "    </tr>\n",
       "  </tbody>\n",
       "</table>\n",
       "<p>59455 rows × 2 columns</p>\n",
       "</div>"
      ],
      "text/plain": [
       "       srch_destination_id collect_set(hotel_cluster)\n",
       "0                        0                        [3]\n",
       "1                        1               [30, 60, 20]\n",
       "2                        2           [30, 46, 20, 53]\n",
       "3                        3                   [60, 53]\n",
       "4                        4       [78, 67, 82, 32, 25]\n",
       "5                        5                       [89]\n",
       "6                        6                       [89]\n",
       "7                        7               [16, 42, 94]\n",
       "8                        8        [48, 42, 7, 43, 91]\n",
       "9                        9           [20, 75, 61, 40]\n",
       "10                      10       [16, 50, 28, 91, 77]\n",
       "11                      11       [51, 48, 16, 42, 47]\n",
       "12                      13                       [76]\n",
       "13                      14           [78, 38, 20, 75]\n",
       "14                      16            [42, 7, 43, 76]\n",
       "15                      17               [35, 58, 11]\n",
       "16                      18       [63, 96, 60, 31, 82]\n",
       "17                      19       [81, 64, 38, 75, 61]\n",
       "18                      20                       [53]\n",
       "19                      21        [82, 46, 3, 61, 58]\n",
       "20                      22                       [89]\n",
       "21                      23       [89, 86, 90, 87, 44]\n",
       "22                      24           [32, 42, 76, 91]\n",
       "23                      25       [51, 48, 33, 39, 47]\n",
       "24                      26            [30, 46, 82, 8]\n",
       "25                      27       [30, 81, 78, 60, 75]\n",
       "26                      28            [33, 99, 37, 2]\n",
       "27                      29                       [13]\n",
       "28                      30            [53, 89, 3, 58]\n",
       "29                      31       [30, 82, 25, 43, 62]\n",
       "...                    ...                        ...\n",
       "59425                65027               [48, 91, 14]\n",
       "59426                65028               [39, 91, 14]\n",
       "59427                65031               [48, 28, 94]\n",
       "59428                65032                       [57]\n",
       "59429                65034                       [67]\n",
       "59430                65035        [78, 43, 22, 58, 8]\n",
       "59431                65037                        [7]\n",
       "59432                65039           [67, 38, 53, 44]\n",
       "59433                65041                [9, 90, 59]\n",
       "59434                65042           [37, 89, 93, 44]\n",
       "59435                65043                       [90]\n",
       "59436                65047           [15, 16, 32, 42]\n",
       "59437                65049                       [57]\n",
       "59438                65050                       [44]\n",
       "59439                65051               [30, 58, 62]\n",
       "59440                65054                       [44]\n",
       "59441                65055                       [89]\n",
       "59442                65056                        [4]\n",
       "59443                65058                       [89]\n",
       "59444                65059                       [93]\n",
       "59445                65060                       [30]\n",
       "59446                65063                   [82, 46]\n",
       "59447                65066                       [18]\n",
       "59448                65068               [63, 60, 92]\n",
       "59449                65087                       [30]\n",
       "59450                65098                   [50, 94]\n",
       "59451                65102                    [51, 7]\n",
       "59452                65103            [20, 50, 42, 7]\n",
       "59453                65104                    [37, 5]\n",
       "59454                65107                       [76]\n",
       "\n",
       "[59455 rows x 2 columns]"
      ]
     },
     "execution_count": 96,
     "metadata": {},
     "output_type": "execute_result"
    }
   ],
   "source": [
    "newdf2.toPandas()"
   ]
  },
  {
   "cell_type": "code",
   "execution_count": 98,
   "metadata": {
    "collapsed": true
   },
   "outputs": [],
   "source": [
    "test_df =spark.read.csv(\"/Users/arjit/Desktop/test.csv\", header =True, inferSchema = True)"
   ]
  },
  {
   "cell_type": "code",
   "execution_count": 99,
   "metadata": {},
   "outputs": [
    {
     "name": "stdout",
     "output_type": "stream",
     "text": [
      "root\n",
      " |-- id: integer (nullable = true)\n",
      " |-- date_time: timestamp (nullable = true)\n",
      " |-- site_name: integer (nullable = true)\n",
      " |-- posa_continent: integer (nullable = true)\n",
      " |-- user_location_country: integer (nullable = true)\n",
      " |-- user_location_region: integer (nullable = true)\n",
      " |-- user_location_city: integer (nullable = true)\n",
      " |-- orig_destination_distance: double (nullable = true)\n",
      " |-- user_id: integer (nullable = true)\n",
      " |-- is_mobile: integer (nullable = true)\n",
      " |-- is_package: integer (nullable = true)\n",
      " |-- channel: integer (nullable = true)\n",
      " |-- srch_ci: string (nullable = true)\n",
      " |-- srch_co: timestamp (nullable = true)\n",
      " |-- srch_adults_cnt: integer (nullable = true)\n",
      " |-- srch_children_cnt: integer (nullable = true)\n",
      " |-- srch_rm_cnt: integer (nullable = true)\n",
      " |-- srch_destination_id: integer (nullable = true)\n",
      " |-- srch_destination_type_id: integer (nullable = true)\n",
      " |-- hotel_continent: integer (nullable = true)\n",
      " |-- hotel_country: integer (nullable = true)\n",
      " |-- hotel_market: integer (nullable = true)\n",
      "\n"
     ]
    }
   ],
   "source": [
    "test_df.printSchema()"
   ]
  },
  {
   "cell_type": "code",
   "execution_count": 100,
   "metadata": {},
   "outputs": [
    {
     "data": {
      "text/plain": [
       "[Row(id=0, date_time=datetime.datetime(2015, 9, 3, 17, 9, 54), site_name=2, posa_continent=3, user_location_country=66, user_location_region=174, user_location_city=37449, orig_destination_distance=5539.0567, user_id=1, is_mobile=1, is_package=0, channel=3, srch_ci=u'2016-05-19', srch_co=datetime.datetime(2016, 5, 23, 0, 0), srch_adults_cnt=2, srch_children_cnt=0, srch_rm_cnt=1, srch_destination_id=12243, srch_destination_type_id=6, hotel_continent=6, hotel_country=204, hotel_market=27),\n",
       " Row(id=1, date_time=datetime.datetime(2015, 9, 24, 17, 38, 35), site_name=2, posa_continent=3, user_location_country=66, user_location_region=174, user_location_city=37449, orig_destination_distance=5873.2923, user_id=1, is_mobile=1, is_package=0, channel=10, srch_ci=u'2016-05-12', srch_co=datetime.datetime(2016, 5, 15, 0, 0), srch_adults_cnt=2, srch_children_cnt=0, srch_rm_cnt=1, srch_destination_id=14474, srch_destination_type_id=7, hotel_continent=6, hotel_country=204, hotel_market=1540),\n",
       " Row(id=2, date_time=datetime.datetime(2015, 6, 7, 15, 53, 2), site_name=2, posa_continent=3, user_location_country=66, user_location_region=142, user_location_city=17440, orig_destination_distance=3975.9776, user_id=20, is_mobile=0, is_package=0, channel=1, srch_ci=u'2015-07-26', srch_co=datetime.datetime(2015, 7, 27, 0, 0), srch_adults_cnt=4, srch_children_cnt=0, srch_rm_cnt=1, srch_destination_id=11353, srch_destination_type_id=1, hotel_continent=2, hotel_country=50, hotel_market=699),\n",
       " Row(id=3, date_time=datetime.datetime(2015, 9, 14, 14, 49, 10), site_name=2, posa_continent=3, user_location_country=66, user_location_region=258, user_location_city=34156, orig_destination_distance=1508.5975, user_id=28, is_mobile=0, is_package=1, channel=10, srch_ci=u'2015-09-14', srch_co=datetime.datetime(2015, 9, 16, 0, 0), srch_adults_cnt=2, srch_children_cnt=0, srch_rm_cnt=1, srch_destination_id=8250, srch_destination_type_id=1, hotel_continent=2, hotel_country=50, hotel_market=628),\n",
       " Row(id=4, date_time=datetime.datetime(2015, 7, 17, 9, 32, 4), site_name=2, posa_continent=3, user_location_country=66, user_location_region=467, user_location_city=36345, orig_destination_distance=66.7913, user_id=50, is_mobile=0, is_package=0, channel=0, srch_ci=u'2015-07-22', srch_co=datetime.datetime(2015, 7, 23, 0, 0), srch_adults_cnt=2, srch_children_cnt=0, srch_rm_cnt=1, srch_destination_id=11812, srch_destination_type_id=1, hotel_continent=2, hotel_country=50, hotel_market=538)]"
      ]
     },
     "execution_count": 100,
     "metadata": {},
     "output_type": "execute_result"
    }
   ],
   "source": [
    "test_df.take(5)"
   ]
  },
  {
   "cell_type": "code",
   "execution_count": null,
   "metadata": {
    "collapsed": true
   },
   "outputs": [],
   "source": []
  }
 ],
 "metadata": {
  "kernelspec": {
   "display_name": "Python 2",
   "language": "python",
   "name": "python2"
  },
  "language_info": {
   "codemirror_mode": {
    "name": "ipython",
    "version": 2
   },
   "file_extension": ".py",
   "mimetype": "text/x-python",
   "name": "python",
   "nbconvert_exporter": "python",
   "pygments_lexer": "ipython2",
   "version": "2.7.14"
  }
 },
 "nbformat": 4,
 "nbformat_minor": 2
}
